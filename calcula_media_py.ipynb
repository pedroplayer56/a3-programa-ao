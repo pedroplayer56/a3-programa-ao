{
  "nbformat": 4,
  "nbformat_minor": 0,
  "metadata": {
    "colab": {
      "provenance": [],
      "authorship_tag": "ABX9TyPQhDmYnd1XVDTnuyrLXzqa",
      "include_colab_link": true
    },
    "kernelspec": {
      "name": "python3",
      "display_name": "Python 3"
    },
    "language_info": {
      "name": "python"
    }
  },
  "cells": [
    {
      "cell_type": "markdown",
      "metadata": {
        "id": "view-in-github",
        "colab_type": "text"
      },
      "source": [
        "<a href=\"https://colab.research.google.com/github/pedroplayer56/a3-programa-ao/blob/main/calcula_media_py.ipynb\" target=\"_parent\"><img src=\"https://colab.research.google.com/assets/colab-badge.svg\" alt=\"Open In Colab\"/></a>"
      ]
    },
    {
      "cell_type": "code",
      "execution_count": 1,
      "metadata": {
        "colab": {
          "base_uri": "https://localhost:8080/"
        },
        "id": "w0d_Dk_S7TQl",
        "outputId": "e81211e6-0719-4968-db1b-316faab46caf"
      },
      "outputs": [
        {
          "output_type": "stream",
          "name": "stdout",
          "text": [
            "Digite a nota 1: 6\n",
            "Digite a nota 2: 8\n",
            "Digite a nota 3: 7\n",
            "Média: 7.00\n",
            "Aluno passou.\n"
          ]
        }
      ],
      "source": [
        "def solicita_notas():\n",
        "    notas = []\n",
        "    for i in range(1, 4):\n",
        "        while True:\n",
        "            try:\n",
        "                nota = float(input(f\"Digite a nota {i}: \"))\n",
        "                if 0 <= nota <= 10:\n",
        "                    notas.append(nota)\n",
        "                    break\n",
        "                else:\n",
        "                    print(\"A nota deve estar entre 0 e 10. Tente novamente.\")\n",
        "            except ValueError:\n",
        "                print(\"Valor inválido. Digite um número.\")\n",
        "    return notas\n",
        "\n",
        "def calcula_media(notas):\n",
        "    return sum(notas) / len(notas)\n",
        "\n",
        "def main():\n",
        "    notas = solicita_notas()\n",
        "    media = calcula_media(notas)\n",
        "    print(f\"Média: {media:.2f}\")\n",
        "    if media >= 7:\n",
        "        print(\"Aluno passou.\")\n",
        "    else:\n",
        "        print(\"Aluno em recuperação.\")\n",
        "\n",
        "if __name__ == \"__main__\":\n",
        "    main()\n"
      ]
    }
  ]
}